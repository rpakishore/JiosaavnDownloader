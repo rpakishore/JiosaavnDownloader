{
 "cells": [
  {
   "cell_type": "code",
   "execution_count": null,
   "metadata": {},
   "outputs": [],
   "source": [
    "#Initialize\n",
    "from jiosaavn import JiosaavnDownload\n",
    "from jiosaavn.API import SaavnMe\n",
    "\n",
    "#Choose the database filepath & Final music location\n",
    "saavn = JiosaavnDownload(cache_filepath='database.pkl', final_location='Y:\\\\Music')\n",
    "#Choose downloader\n",
    "saavn.set_downloader(downloader=SaavnMe())\n",
    "#Download song, skip if previously downloaded\n",
    "saavn.song(url='https://www.jiosaavn.com/album/sambar/MP5Da7jEhBQ_', skip_downloaded=True)\n",
    "#Download all songs in playlist\n",
    "saavn.playlist(id='799619460', skip_downloaded=False)"
   ]
  },
  {
   "cell_type": "code",
   "execution_count": null,
   "metadata": {},
   "outputs": [],
   "source": [
    "from jiosaavn import JiosaavnDownload\n",
    "saavn = JiosaavnDownload(final_location=r'Y:\\Music')\n",
    "saavn.GOTIFY_CHANNEL = \"Media\"\n",
    "saavn.playlist(id = 109815423, debug_only=False)\n",
    "\n",
    "playlists = [\n",
    "    '109815423',        #Top Kuthu - Tamil\n",
    "    '799619460',        #Tamil EDM,\n",
    "    '1134651042',       #Tamil: India Superhits Top 50\n",
    "    '80802063',         #Tamil Viral Hits\n",
    "    '109118539',        #Motivational Hits - Tamil\n",
    "    '83412571',         #Workout Beats - Tamil\n",
    "    '837803163',        #Chill Hits - Tamil,\n",
    "    '696005328',        #House Party - Tamil\n",
    "    '67691546',         #Semma Mass - Tamil\n",
    "    '1134705865',       #Malayalam: India Superhits Top 50\n",
    "]\n",
    "\n",
    "for playlist in playlists:\n",
    "    saavn.playlist(id=playlist)"
   ]
  },
  {
   "cell_type": "code",
   "execution_count": 1,
   "metadata": {},
   "outputs": [
    {
     "name": "stderr",
     "output_type": "stream",
     "text": [
      "20241223-143457-INFO: SaavnMe Instance Initialized\n",
      "20241223-143457-INFO: Jiosaavn Module Initialized\n",
      "20241223-143457-INFO: C:\\Users\\rpakishore\\Documents\\GitHub\\JiosaavnDownloader\\config.toml\n",
      "20241223-143457-INFO: Accessing database file at database.pkl\n",
      "20241223-143457-INFO: Final destination set to Y:\\Music\n",
      "20241223-143457-INFO: Cache file created\n",
      "20241223-143457-INFO: Initialized Cache Object at database.pkl\n",
      "20241223-143457-INFO: Extracting Song from URL: https://www.jiosaavn.com/song/anbay/BxlcAiFYBlQhttps://www.jiosaavn.com/song/nadhiyae-theemthanana/BwRfdjlBY2w\n",
      "20241223-143511-INFO: Download completed (6.27 MB) in 10.1 sec(s) at 0.6 MB/s\n",
      "20241223-143512-INFO: Metadata written for Nadhiyae (Theemthanana)\n",
      "20241223-143515-INFO: Extracting Song from URL: https://www.jiosaavn.com/song/nilamay-poru-nilamay-land/Nj4CcxhKR2o\n",
      "20241223-143524-INFO: Download completed (4.96 MB) in 8.6 sec(s) at 0.6 MB/s\n",
      "20241223-143524-INFO: Metadata written for Nilamay Poru Nilamay (Land)\n"
     ]
    }
   ],
   "source": [
    "#Initialize\n",
    "from jiosaavn import JiosaavnDownload\n",
    "from jiosaavn.API import SaavnMe\n",
    "\n",
    "#Choose the database filepath & Final music location\n",
    "saavn = JiosaavnDownload(cache_filepath='database.pkl', final_location='Y:\\\\Music')\n",
    "#Choose downloader\n",
    "saavn.set_downloader(downloader=SaavnMe())\n",
    "\n",
    "url = [\n",
    "    'https://www.jiosaavn.com/song/anbay/BxlcAiFYBlQ'\n",
    "    'https://www.jiosaavn.com/song/nadhiyae-theemthanana/BwRfdjlBY2w',\n",
    "    'https://www.jiosaavn.com/song/nilamay-poru-nilamay-land/Nj4CcxhKR2o'\n",
    "]\n",
    "for each in url:\n",
    "    saavn.song(url=each, skip_downloaded=True)"
   ]
  }
 ],
 "metadata": {
  "kernelspec": {
   "display_name": ".venv",
   "language": "python",
   "name": "python3"
  },
  "language_info": {
   "codemirror_mode": {
    "name": "ipython",
    "version": 3
   },
   "file_extension": ".py",
   "mimetype": "text/x-python",
   "name": "python",
   "nbconvert_exporter": "python",
   "pygments_lexer": "ipython3",
   "version": "3.12.2"
  },
  "orig_nbformat": 4
 },
 "nbformat": 4,
 "nbformat_minor": 2
}
