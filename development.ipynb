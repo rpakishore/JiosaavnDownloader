{
 "cells": [
  {
   "cell_type": "code",
   "execution_count": null,
   "metadata": {},
   "outputs": [],
   "source": [
    "#Initialize\n",
    "from jiosaavn import JiosaavnDownload\n",
    "from jiosaavn.API import SaavnMe\n",
    "\n",
    "#Choose the database filepath & Final music location\n",
    "saavn = JiosaavnDownload(cache_filepath='database.pkl', final_location='Y:\\\\Music')\n",
    "#Choose downloader\n",
    "saavn.set_downloader(downloader=SaavnMe())\n",
    "#Download song, skip if previously downloaded\n",
    "saavn.song(url='https://www.jiosaavn.com/album/sambar/MP5Da7jEhBQ_', skip_downloaded=True)\n",
    "#Download all songs in playlist\n",
    "saavn.playlist(id='799619460', skip_downloaded=False)"
   ]
  },
  {
   "cell_type": "code",
   "execution_count": null,
   "metadata": {},
   "outputs": [],
   "source": [
    "from jiosaavn import JiosaavnDownload\n",
    "saavn = JiosaavnDownload(final_location=r'Y:\\Music')\n",
    "saavn.GOTIFY_CHANNEL = \"Media\"\n",
    "saavn.playlist(id = 109815423, debug_only=False)\n",
    "\n",
    "playlists = [\n",
    "    '109815423',        #Top Kuthu - Tamil\n",
    "    '799619460',        #Tamil EDM,\n",
    "    '1134651042',       #Tamil: India Superhits Top 50\n",
    "    '80802063',         #Tamil Viral Hits\n",
    "    '109118539',        #Motivational Hits - Tamil\n",
    "    '83412571',         #Workout Beats - Tamil\n",
    "    '837803163',        #Chill Hits - Tamil,\n",
    "    '696005328',        #House Party - Tamil\n",
    "    '67691546',         #Semma Mass - Tamil\n",
    "    '1134705865',       #Malayalam: India Superhits Top 50\n",
    "]\n",
    "\n",
    "for playlist in playlists:\n",
    "    saavn.playlist(id=playlist)"
   ]
  }
 ],
 "metadata": {
  "kernelspec": {
   "display_name": ".venv",
   "language": "python",
   "name": "python3"
  },
  "language_info": {
   "codemirror_mode": {
    "name": "ipython",
    "version": 3
   },
   "file_extension": ".py",
   "mimetype": "text/x-python",
   "name": "python",
   "nbconvert_exporter": "python",
   "pygments_lexer": "ipython3",
   "version": "3.11.7"
  },
  "orig_nbformat": 4
 },
 "nbformat": 4,
 "nbformat_minor": 2
}
