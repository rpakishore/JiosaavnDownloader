{
 "cells": [
  {
   "cell_type": "code",
   "execution_count": null,
   "metadata": {},
   "outputs": [],
   "source": [
    "import pandas as pd\n",
    "from pandasgui import show\n",
    "from template_python.debugger import *\n",
    "\n",
    "df = pd.DataFrame({'a':[1,2,3], 'b':[4,5,6], 'c':[7,8,9]})\n",
    "show(df)"
   ]
  },
  {
   "cell_type": "code",
   "execution_count": 12,
   "metadata": {},
   "outputs": [
    {
     "data": {
      "text/plain": [
       "{'320kbps': 'true',\n",
       " 'album': 'Chhichhore',\n",
       " 'album_url': 'https://www.jiosaavn.com/album/chhichhore/V4F3M5,cNb4_',\n",
       " 'albumid': '17132913',\n",
       " 'artistMap': {'Amitabh Bhattacharya': '458681',\n",
       "  'Arijit Singh': '459320',\n",
       "  'Naveen Polishetty': '6531701',\n",
       "  'Prateik Babbar': '457932',\n",
       "  'Pritam': '456323',\n",
       "  'Shraddha Kapoor': '477854',\n",
       "  'Sushant Singh Rajput': '8190578',\n",
       "  'Tahir Raj Bhasin': '2370737',\n",
       "  'Tushar Pandey': '5860917',\n",
       "  'Varun Sharma': '670950'},\n",
       " 'cache_state': 'false',\n",
       " 'copyright_text': '© 2019 Super Cassettes Industries Private Limited',\n",
       " 'disabled': 'true',\n",
       " 'disabled_text': 'Pro Only',\n",
       " 'duration': '280',\n",
       " 'encrypted_media_path': 'NMKyboFo/FiZnfntRvcNSgxBfKN/LJGe0TslqweHfFAeuHKuIiOIA1/8vqsn8+qW',\n",
       " 'encrypted_media_url': 'ID2ieOjCrwfgWvL5sXl4B1ImC5QfbsDyYhe68adzBZAKJQK9qjdF4unN9Zgscia9R+nDZkn3d967D1djfXn5Vxw7tS9a8Gtq',\n",
       " 'explicit_content': 0,\n",
       " 'featured_artists': '',\n",
       " 'featured_artists_id': '',\n",
       " 'has_lyrics': 'true',\n",
       " 'id': 'OhnxgY6_',\n",
       " 'image': 'https://c.saavncdn.com/937/Chhichhore-Hindi-2019-20190904104023-500x500.jpg',\n",
       " 'is_dolby_content': False,\n",
       " 'label': '',\n",
       " 'label_url': '/label/-albums/6DLuXO3VoTo_',\n",
       " 'language': 'hindi',\n",
       " 'lyrics_snippet': 'Tumhare bin deewane ka kya haal hai',\n",
       " 'media_preview_url': 'https://preview.saavncdn.com/937/98dfd33cd388084fd76fadf65165a10e_96_p.mp4',\n",
       " 'media_url': 'https://aac.saavncdn.com/937/98dfd33cd388084fd76fadf65165a10e_320.mp4',\n",
       " 'music': 'Pritam',\n",
       " 'music_id': '456323',\n",
       " 'origin': 'none',\n",
       " 'perma_url': 'https://www.jiosaavn.com/song/khairiyat/PwAFSRNpAWw',\n",
       " 'play_count': 166751111,\n",
       " 'primary_artists': 'Pritam, Arijit Singh',\n",
       " 'primary_artists_id': '456323, 459320',\n",
       " 'release_date': '2019-08-31',\n",
       " 'rights': {'cacheable': True,\n",
       "  'code': 1,\n",
       "  'delete_cached_object': False,\n",
       "  'reason': 'Pro Only'},\n",
       " 'singers': 'Pritam, Arijit Singh',\n",
       " 'song': 'Khairiyat',\n",
       " 'starred': 'false',\n",
       " 'starring': 'Sushant Singh Rajput, Shraddha Kapoor, Sushant Singh Rajput, Prateik Babbar, Shraddha Kapoor, Varun Sharma, Prateik Babbar, Tushar Pandey, Tahir Raj Bhasin, Naveen Polishetty',\n",
       " 'triller_available': False,\n",
       " 'type': '',\n",
       " 'vcode': '010910091004952',\n",
       " 'vlink': 'https://jiotunepreview.jio.com/content/Converted/010910090961459.mp3',\n",
       " 'webp': True,\n",
       " 'year': '2019'}"
      ]
     },
     "execution_count": 12,
     "metadata": {},
     "output_type": "execute_result"
    }
   ],
   "source": [
    "from jiosaavn.request_package import req\n",
    "requests = req()\n"
   ]
  },
  {
   "cell_type": "code",
   "execution_count": 19,
   "metadata": {},
   "outputs": [
    {
     "data": {
      "text/plain": [
       "False"
      ]
     },
     "execution_count": 19,
     "metadata": {},
     "output_type": "execute_result"
    }
   ],
   "source": [
    "from dataclasses import dataclass\n",
    "\n",
    "@dataclass\n",
    "class SongInfo:\n",
    "    name: str\n",
    "    album: str\n",
    "    artists: list[str]\n",
    "    duration: int\n",
    "    image: str\n",
    "    language: str\n",
    "    media_url: str\n",
    "    singers: list[str]\n",
    "    id: str\n",
    "    \n",
    "    def __contains__(self, value):\n",
    "        return value in self.id\n",
    "\n",
    "song_url = 'https://www.jiosaavn.com/song/khairiyat/PwAFSRNpAWw'\n",
    "def song(song_url: str) -> SongInfo:\n",
    "    assert 'https://www.jiosaavn.com/song/' in song_url\n",
    "    url = f'http://192.168.107.10:9027/song/?query={song_url}'\n",
    "    res = requests.get(url).json()\n",
    "    \n",
    "    return SongInfo(\n",
    "        name =  res.get('song'),\n",
    "        album=res.get('album'),\n",
    "        duration=int(res.get('duration')),\n",
    "        artists = [key for key in res.get('artistMap').keys()],\n",
    "        image=res.get('image'),\n",
    "        language=res.get('language'),\n",
    "        media_url=res.get('media_url'),\n",
    "        singers=res.get('singers').split(', '),\n",
    "        id= res.get('music_id')\n",
    "    )\n",
    "'456323' in [song(song_url)]"
   ]
  }
 ],
 "metadata": {
  "kernelspec": {
   "display_name": ".venv",
   "language": "python",
   "name": "python3"
  },
  "language_info": {
   "codemirror_mode": {
    "name": "ipython",
    "version": 3
   },
   "file_extension": ".py",
   "mimetype": "text/x-python",
   "name": "python",
   "nbconvert_exporter": "python",
   "pygments_lexer": "ipython3",
   "version": "3.10.11"
  },
  "orig_nbformat": 4
 },
 "nbformat": 4,
 "nbformat_minor": 2
}
